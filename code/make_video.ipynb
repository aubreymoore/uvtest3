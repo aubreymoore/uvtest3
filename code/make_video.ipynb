{
 "cells": [
  {
   "cell_type": "markdown",
   "metadata": {},
   "source": [
    "# make_video.ipynb"
   ]
  },
  {
   "cell_type": "code",
   "execution_count": 2,
   "metadata": {},
   "outputs": [
    {
     "ename": "ModuleNotFoundError",
     "evalue": "No module named 'matplotlib'",
     "output_type": "error",
     "traceback": [
      "\u001b[0;31m---------------------------------------------------------------------------\u001b[0m",
      "\u001b[0;31mModuleNotFoundError\u001b[0m                       Traceback (most recent call last)",
      "Cell \u001b[0;32mIn[2], line 3\u001b[0m\n\u001b[1;32m      1\u001b[0m \u001b[38;5;28;01mimport\u001b[39;00m\u001b[38;5;250m \u001b[39m\u001b[38;5;21;01mos\u001b[39;00m\n\u001b[1;32m      2\u001b[0m \u001b[38;5;66;03m# import shutil\u001b[39;00m\n\u001b[0;32m----> 3\u001b[0m \u001b[38;5;28;01mimport\u001b[39;00m\u001b[38;5;250m \u001b[39m\u001b[38;5;21;01mmatplotlib\u001b[39;00m\u001b[38;5;21;01m.\u001b[39;00m\u001b[38;5;21;01mpyplot\u001b[39;00m\u001b[38;5;250m \u001b[39m\u001b[38;5;28;01mas\u001b[39;00m\u001b[38;5;250m \u001b[39m\u001b[38;5;21;01mplt\u001b[39;00m\n\u001b[1;32m      4\u001b[0m get_ipython()\u001b[38;5;241m.\u001b[39mrun_line_magic(\u001b[38;5;124m'\u001b[39m\u001b[38;5;124mmatplotlib\u001b[39m\u001b[38;5;124m'\u001b[39m, \u001b[38;5;124m'\u001b[39m\u001b[38;5;124minline\u001b[39m\u001b[38;5;124m'\u001b[39m)\n\u001b[1;32m      5\u001b[0m \u001b[38;5;66;03m# import json\u001b[39;00m\n",
      "\u001b[0;31mModuleNotFoundError\u001b[0m: No module named 'matplotlib'"
     ]
    }
   ],
   "source": [
    "import os\n",
    "# import shutil\n",
    "import matplotlib.pyplot as plt\n",
    "%matplotlib inline\n",
    "# import json\n",
    "import cv2\n",
    "import numpy as np\n",
    "from icecream import ic\n",
    "from IPython.display import display, clear_output"
   ]
  },
  {
   "cell_type": "code",
   "execution_count": 12,
   "metadata": {},
   "outputs": [],
   "source": [
    "def calc_intensity_list(images_dir, first_frame_num, last_frame_num):\n",
    "    \"\"\"\n",
    "    Calculates the average intensity of pixels within each frame of the video scene.\n",
    "    \"\"\"\n",
    "    intensity_list = []\n",
    "    for frame_num in range(first_frame_num, last_frame_num + 1):\n",
    "        image = cv2.imread(f'{images_dir}/{frame_num:04d}.png')\n",
    "        intensity = np.mean(image)\n",
    "        intensity_list.append(intensity)\n",
    "    return intensity_list"
   ]
  },
  {
   "cell_type": "code",
   "execution_count": 13,
   "metadata": {},
   "outputs": [],
   "source": [
    "def create_frame_intensity_figure(frame_num, seconds_list, intensity_list, frame_path, fig_path):\n",
    "    \"\"\"\n",
    "    Creates an image with two subplots: the frame image and the intensity plot.\n",
    "    \"\"\"\n",
    " \n",
    "    # Create figure\n",
    "    fig, (ax1, ax2) = plt.subplots(2, 1, figsize=(8,8))\n",
    "\n",
    "    # Create image plot\n",
    "    image = plt.imread(frame_path)\n",
    "    ax1.imshow(image)\n",
    "    ax1.set_title(f'Frame {frame_num} | mean pixel intensity: {intensity_list[frame_num-1]:.2f}')\n",
    "    ax1.axis('off')\n",
    "\n",
    "    # Create a sample plot\n",
    "    x = seconds_list[:frame_num]\n",
    "    y = intensity_list[:frame_num]\n",
    "\n",
    "    ax2.plot(x, y)\n",
    "    ax2.set_xlabel('time (s)')\n",
    "    ax2.set_ylabel('mean pixel intensity [0-255]')\n",
    "    ax2.set_xlim(min(seconds_list), max(seconds_list))\n",
    "\n",
    "    # plt.tight_layout()\n",
    "    \n",
    "    # Save figure in a file\n",
    "    fig.tight_layout\n",
    "    fig.savefig(fig_path)\n",
    "    plt.close(fig)"
   ]
  },
  {
   "cell_type": "code",
   "execution_count": 14,
   "metadata": {},
   "outputs": [],
   "source": [
    "# MAIN\n",
    "\n",
    "FIRST_FRAME_NUM = 1\n",
    "LAST_FRAME_NUM = 719\n",
    "FRAMES_DIR = 'beetles_in_flight/images'\n",
    "FIGURES_DIR = 'beetles_in_flight/figures'\n",
    "FPS = 6000\n",
    "\n",
    "# create seconds_list which will be used for the x axis\n",
    "seconds_list = [i/FPS for i in range(LAST_FRAME_NUM + 1)]\n",
    "\n",
    "# create intensity_list which will be used for the y axis\n",
    "intensity_list = calc_intensity_list(FRAMES_DIR, FIRST_FRAME_NUM, LAST_FRAME_NUM)\n",
    "\n",
    "# ensure that FIGURES_DIR exists\n",
    "os.makedirs(FIGURES_DIR, exist_ok=True)\n",
    "\n",
    "for frame_num in range(FIRST_FRAME_NUM, LAST_FRAME_NUM + 1):\n",
    "    create_frame_intensity_figure(\n",
    "        frame_num,\n",
    "        seconds_list, \n",
    "        intensity_list, \n",
    "        frame_path = f'{FRAMES_DIR}/{frame_num:04d}.png', \n",
    "        fig_path = f'{FIGURES_DIR}/{frame_num:04d}.png'\n",
    "        )"
   ]
  }
 ],
 "metadata": {
  "kernelspec": {
   "display_name": ".venv",
   "language": "python",
   "name": "python3"
  },
  "language_info": {
   "codemirror_mode": {
    "name": "ipython",
    "version": 3
   },
   "file_extension": ".py",
   "mimetype": "text/x-python",
   "name": "python",
   "nbconvert_exporter": "python",
   "pygments_lexer": "ipython3",
   "version": "3.10.12"
  }
 },
 "nbformat": 4,
 "nbformat_minor": 2
}
